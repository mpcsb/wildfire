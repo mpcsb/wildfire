{
 "cells": [
  {
   "cell_type": "code",
   "execution_count": 3,
   "metadata": {},
   "outputs": [
    {
     "data": {
      "image/png": "[encoded data removed]",
      "text/plain": [
       "<Figure size 640x480 with 2 Axes>"
      ]
     },
     "metadata": {},
     "output_type": "display_data"
    }
   ],
   "source": [
    "import numpy as np\n",
    "import matplotlib.pyplot as plt\n",
    "import matplotlib.animation as animation\n",
    "\n",
    "def reaction_diffusion(u, D, dt, dx, dy):\n",
    "    u_x = (np.roll(u, -1, axis=1) - 2 * u + np.roll(u, 1, axis=1)) / dx**2\n",
    "    u_y = (np.roll(u, -1, axis=0) - 2 * u + np.roll(u, 1, axis=0)) / dy**2\n",
    "    u += dt * D * (u_x + u_y)\n",
    "    return u\n",
    "\n",
    "# Define the size of the domain\n",
    "width, height = 100, 100\n",
    "\n",
    "# Define the initial condition\n",
    "u = np.zeros((height, width))\n",
    "u[height//2, width//2] = 1\n",
    "\n",
    "# Define the medium\n",
    "D = np.ones((height, width))\n",
    "D[30:70, 30:70] = 0.1\n",
    "\n",
    "# Set the parameters for the simulation\n",
    "dt = 0.1\n",
    "dx = 1\n",
    "dy = 1\n",
    "\n",
    "# Set up the plot\n",
    "fig, ax = plt.subplots()\n",
    "im = ax.imshow(u, cmap='viridis', interpolation='nearest', animated=True)\n",
    "plt.colorbar(im)\n",
    "\n",
    "def update(*args):\n",
    "    global u, D, dt, dx, dy\n",
    "    u = reaction_diffusion(u, D, dt, dx, dy)\n",
    "    im.set_array(u)\n",
    "    return im,\n",
    "\n",
    "# Create the animation\n",
    "ani = animation.FuncAnimation(fig, update, frames=200, interval=50, blit=False)\n",
    "\n",
    "plt.show()\n"
   ]
  },
  {
   "cell_type": "code",
   "execution_count": 5,
   "metadata": {},
   "outputs": [
    {
     "name": "stderr",
     "output_type": "stream",
     "text": [
      "c:\\Users\\migue\\anaconda3\\envs\\wildfire\\lib\\site-packages\\matplotlib\\animation.py:884: UserWarning: Animation was deleted without rendering anything. This is most likely not intended. To prevent deletion, assign the Animation to a variable, e.g. `anim`, that exists until you output the Animation using `plt.show()` or `anim.save()`.\n",
      "  warnings.warn(\n"
     ]
    }
   ],
   "source": [
    "import numpy as np\n",
    "import matplotlib.pyplot as plt\n",
    "import matplotlib.animation as animation\n",
    "\n",
    "def reaction_diffusion(u, D, dt, dx, dy):\n",
    "    u_x = (np.roll(u, -1, axis=1) - 2 * u + np.roll(u, 1, axis=1)) / dx**2\n",
    "    u_y = (np.roll(u, -1, axis=0) - 2 * u + np.roll(u, 1, axis=0)) / dy**2\n",
    "    u += dt * D * (u_x + u_y)\n",
    "    return u\n",
    "\n",
    "# Define the size of the domain\n",
    "width, height = 100, 100\n",
    "\n",
    "# Define the initial condition\n",
    "u = np.zeros((height, width))\n",
    "u[height//2, width//2] = 1\n",
    "\n",
    "# Define the medium\n",
    "D = np.ones((height, width))\n",
    "D[30:70, 30:70] = 4\n",
    "\n",
    "# Set the parameters for the simulation\n",
    "dt = 0.1\n",
    "dx = 1\n",
    "dy = 1\n",
    "\n",
    "# Set up the plot\n",
    "fig, ax = plt.subplots()\n",
    "im = ax.imshow(u, cmap='viridis', interpolation='nearest', animated=True)\n",
    "plt.colorbar(im)\n",
    "\n",
    "def update(*args):\n",
    "    global u, D, dt, dx, dy\n",
    "    u = reaction_diffusion(u, D, dt, dx, dy)\n",
    "    im.set_array(u)\n",
    "    return im,\n",
    "\n",
    "# Create the animation\n",
    "ani = animation.FuncAnimation(fig, update, frames=200, interval=50, blit=True)\n",
    "\n",
    "# Save the animation as a GIF file\n",
    "ani.save('reaction_diffusion.gif', writer='imagemagick', fps=20)\n",
    "\n",
    "plt.close(fig)  "
   ]
  },
  {
   "cell_type": "code",
   "execution_count": null,
   "metadata": {},
   "outputs": [],
   "source": []
  }
 ],
 "metadata": {
  "kernelspec": {
   "display_name": "wildfire",
   "language": "python",
   "name": "python3"
  },
  "language_info": {
   "codemirror_mode": {
    "name": "ipython",
    "version": 3
   },
   "file_extension": ".py",
   "mimetype": "text/x-python",
   "name": "python",
   "nbconvert_exporter": "python",
   "pygments_lexer": "ipython3",
   "version": "3.9.16"
  },
  "orig_nbformat": 4,
  "vscode": {
   "interpreter": {
    "hash": "b035927db4f17e5cba3c413308a403e07246d44c03eb3e3c8a9557ebdd0471cf"
   }
  }
 },
 "nbformat": 4,
 "nbformat_minor": 2
}
